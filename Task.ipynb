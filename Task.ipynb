{
 "cells": [
  {
   "cell_type": "code",
   "execution_count": 1,
   "id": "665fd405",
   "metadata": {},
   "outputs": [
    {
     "name": "stdout",
     "output_type": "stream",
     "text": [
      "  Processor Brand OEM Brand Processor Family  Year  Quarter     Month  \\\n",
      "0     Competition     OEM A          AMD A10  2019  Q1 2019  Jan 2019   \n",
      "1     Competition     OEM A          AMD A10  2019  Q2 2019  May 2019   \n",
      "2     Competition     OEM A          AMD A10  2019  Q3 2019  Sep 2019   \n",
      "3     Competition     OEM A          AMD A10  2019  Q4 2019  Oct 2019   \n",
      "4     Competition     OEM A          AMD A10  2020  Q3 2020  Jul 2020   \n",
      "\n",
      "  Form Factor Parent Processor Generation  Sales Out Units  System Revenue $  \n",
      "0           Notebook        Not Specified                3           1350.24  \n",
      "1           Notebook        Not Specified                1            831.60  \n",
      "2           Notebook        Not Specified                1            311.00  \n",
      "3           Notebook        Not Specified                1            342.30  \n",
      "4           Notebook        Not Specified                0            464.40  \n"
     ]
    }
   ],
   "source": [
    "import pandas as pd\n",
    "\n",
    "df = pd.read_excel(\"Intern Excel Exercise DB.xlsx\",sheet_name = \"DB Exercise\")\n",
    "\n",
    "print(df.head(5))\n"
   ]
  },
  {
   "cell_type": "code",
   "execution_count": 2,
   "id": "a5280b71",
   "metadata": {},
   "outputs": [
    {
     "name": "stdout",
     "output_type": "stream",
     "text": [
      "The % of growth of Sales Out Units in 2020 vs 2019 is: 46.93%\n"
     ]
    }
   ],
   "source": [
    "##Question 1\n",
    "sales_2020 = df[df['Year'] == 2020]['Sales Out Units'].sum()\n",
    "\n",
    "sales_2019 = df[df['Year'] == 2019]['Sales Out Units'].sum()\n",
    "\n",
    "growth_percentage = ((sales_2020 - sales_2019) / sales_2019) * 100\n",
    "\n",
    "print(f\"The % of growth of Sales Out Units in 2020 vs 2019 is: {growth_percentage:.2f}%\")"
   ]
  },
  {
   "cell_type": "code",
   "execution_count": 4,
   "id": "2429b841",
   "metadata": {},
   "outputs": [
    {
     "name": "stdout",
     "output_type": "stream",
     "text": [
      "Month with the highest % Intel Market Share in the Notebook segment:\n",
      "Month: Jan 2019\n",
      "Intel Market Share: 75.83892617449665 %\n"
     ]
    }
   ],
   "source": [
    "## Question 3\n",
    "# Filter the data to include only the Notebook segment and Intel processors\n",
    "notebook_df = df[(df['Form Factor Parent'] == 'Notebook') & (df['Processor Brand'] == 'Intel')]\n",
    "\n",
    "# Group the data by month and calculate the total sales units for Intel processors and overall sales units for each month\n",
    "monthly_sales = notebook_df.groupby('Month').agg({'Sales Out Units': 'sum'})\n",
    "monthly_total_sales = df.groupby('Month').agg({'Sales Out Units': 'sum'})\n",
    "\n",
    "# Calculate the Intel Market Share for each month\n",
    "monthly_sales['Intel Market Share %'] = (monthly_sales['Sales Out Units'] / monthly_total_sales['Sales Out Units']) * 100\n",
    "\n",
    "# Find the month with the highest Intel Market Share\n",
    "month_with_highest_market_share = monthly_sales['Intel Market Share %'].idxmax()\n",
    "highest_market_share = monthly_sales.loc[month_with_highest_market_share, 'Intel Market Share %']\n",
    "\n",
    "print(\"Month with the highest % Intel Market Share in the Notebook segment:\")\n",
    "print(\"Month:\", month_with_highest_market_share)\n",
    "print(\"Intel Market Share:\", highest_market_share, \"%\")\n"
   ]
  },
  {
   "cell_type": "code",
   "execution_count": 5,
   "id": "2199b142",
   "metadata": {},
   "outputs": [
    {
     "name": "stdout",
     "output_type": "stream",
     "text": [
      "OEM with the biggest share of the market in the Desktop segment in 2020:\n",
      "OEM Brand: OEM C\n",
      "System Revenue: 7305596.88\n"
     ]
    }
   ],
   "source": [
    "## Question 4\n",
    "# Filter the data to include only the Desktop segment and the year 2020\n",
    "desktop_2020_df = df[(df['Form Factor Parent'] == 'Desktop') & (df['Year'] == 2020)]\n",
    "\n",
    "# Group the data by OEM and calculate the total System Revenue for each OEM in 2020\n",
    "oem_system_revenue_2020 = desktop_2020_df.groupby('OEM Brand')['System Revenue $'].sum()\n",
    "\n",
    "# Find the OEM with the highest System Revenue\n",
    "biggest_market_share_oem = oem_system_revenue_2020.idxmax()\n",
    "biggest_market_share_system_revenue = oem_system_revenue_2020.max()\n",
    "\n",
    "print(\"OEM with the biggest share of the market in the Desktop segment in 2020:\")\n",
    "print(\"OEM Brand:\", biggest_market_share_oem)\n",
    "print(\"System Revenue:\", biggest_market_share_system_revenue)\n"
   ]
  },
  {
   "cell_type": "code",
   "execution_count": null,
   "id": "3615e657",
   "metadata": {},
   "outputs": [],
   "source": []
  }
 ],
 "metadata": {
  "kernelspec": {
   "display_name": "Python 3 (ipykernel)",
   "language": "python",
   "name": "python3"
  },
  "language_info": {
   "codemirror_mode": {
    "name": "ipython",
    "version": 3
   },
   "file_extension": ".py",
   "mimetype": "text/x-python",
   "name": "python",
   "nbconvert_exporter": "python",
   "pygments_lexer": "ipython3",
   "version": "3.9.12"
  }
 },
 "nbformat": 4,
 "nbformat_minor": 5
}
